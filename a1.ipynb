{
 "cells": [
  {
   "cell_type": "code",
   "execution_count": 17,
   "id": "68c12b03",
   "metadata": {},
   "outputs": [
    {
     "name": "stdout",
     "output_type": "stream",
     "text": [
      "2.01325\n"
     ]
    }
   ],
   "source": [
    "#calculate the average of 3.14, 2.718, 1.618, 0.577\n",
    "number= [3.14, 2.718, 1.618, 0.577]\n",
    "avg= sum(number)/4\n",
    "print(avg)"
   ]
  },
  {
   "cell_type": "code",
   "execution_count": 18,
   "id": "59009a9a",
   "metadata": {},
   "outputs": [
    {
     "name": "stdout",
     "output_type": "stream",
     "text": [
      "37.0\n"
     ]
    }
   ],
   "source": [
    "#2 convert 98.6 fahrenheit to celsius \n",
    "Fahrenheit= 98.6\n",
    "celcius=(Fahrenheit - 32)*5/9\n",
    "print(celcius)\n"
   ]
  },
  {
   "cell_type": "code",
   "execution_count": 19,
   "id": "77289df8",
   "metadata": {},
   "outputs": [
    {
     "name": "stdout",
     "output_type": "stream",
     "text": [
      "compound interest: 174.24137499999983\n",
      "Total Amount after 3 years 1174.2413749999998\n"
     ]
    }
   ],
   "source": [
    "#3 Calculate the compound interest on $1000 at 5.5% for 3 years\n",
    "p=1000\n",
    "r= 5.5\n",
    "t=3\n",
    "A= p* (1 + r/100)**t\n",
    "compound_interest = A-p\n",
    "print(\"compound interest:\", compound_interest)\n",
    "print(\"Total Amount after 3 years\",A)\n"
   ]
  },
  {
   "cell_type": "code",
   "execution_count": 20,
   "id": "f601cfae",
   "metadata": {},
   "outputs": [
    {
     "name": "stdout",
     "output_type": "stream",
     "text": [
      "5.4671747731346585\n"
     ]
    }
   ],
   "source": [
    "# Question 4: Find the hypotenuse of a right triangle with sides 3.5 and 4.2\n",
    "import math\n",
    "a=3.5\n",
    "b=4.2\n",
    "hypotenuse=math.sqrt(a**2 + b**2)\n",
    "print(hypotenuse)"
   ]
  },
  {
   "cell_type": "code",
   "execution_count": 21,
   "id": "f9e2c74d",
   "metadata": {},
   "outputs": [
    {
     "name": "stdout",
     "output_type": "stream",
     "text": [
      "1987.798769261791\n"
     ]
    }
   ],
   "source": [
    "# Question 5: Calculate the volume of a sphere with radius 7.8\n",
    "radius=7.8\n",
    "volume=(4/3) * math.pi* radius**3\n",
    "print(volume)"
   ]
  },
  {
   "cell_type": "code",
   "execution_count": 25,
   "id": "62651dc1",
   "metadata": {},
   "outputs": [
    {
     "name": "stdout",
     "output_type": "stream",
     "text": [
      "3.142\n"
     ]
    }
   ],
   "source": [
    "# Question 6: Round 3.14159 to 3 decimal places\n",
    "number= 3.14159\n",
    "round_num=round(number, 3)\n",
    "print(round_num)"
   ]
  },
  {
   "cell_type": "code",
   "execution_count": 26,
   "id": "76c9faba",
   "metadata": {},
   "outputs": [
    {
     "name": "stdout",
     "output_type": "stream",
     "text": [
      "67.16417910447761\n"
     ]
    }
   ],
   "source": [
    "# Question 7: Calculate the percentage: 45 out of 67\n",
    "obtain=45\n",
    "total=67\n",
    "percentage=(obtain/total)*100\n",
    "print(percentage)"
   ]
  },
  {
   "cell_type": "code",
   "execution_count": 3,
   "id": "1a11965a",
   "metadata": {},
   "outputs": [
    {
     "name": "stdout",
     "output_type": "stream",
     "text": [
      "4.843139477652899\n"
     ]
    }
   ],
   "source": [
    "# Question 8: Find the square root of 23.456\n",
    "import math\n",
    "num= 23.456\n",
    "square_root=math.sqrt(num)\n",
    "print(square_root)"
   ]
  },
  {
   "cell_type": "code",
   "execution_count": 4,
   "id": "6d31076c",
   "metadata": {},
   "outputs": [
    {
     "name": "stdout",
     "output_type": "stream",
     "text": [
      "406.25\n"
     ]
    }
   ],
   "source": [
    "# Question 9: Calculate the simple interest: Principal=2500, Rate=6.5%, Time=2.5 years\n",
    "p=2500\n",
    "r=6.5\n",
    "t=2.5\n",
    "si=(p*t*r)/100\n",
    "print(si)"
   ]
  },
  {
   "cell_type": "code",
   "execution_count": 5,
   "id": "9f64af2d",
   "metadata": {},
   "outputs": [
    {
     "name": "stdout",
     "output_type": "stream",
     "text": [
      "0.7976154681614086\n"
     ]
    }
   ],
   "source": [
    "# Question 10: Convert 45.7 degrees to radians\n",
    "import math\n",
    "degrees=45.7\n",
    "radians=math.radians(degrees)\n",
    "print(radians)"
   ]
  }
 ],
 "metadata": {
  "kernelspec": {
   "display_name": "Python 3",
   "language": "python",
   "name": "python3"
  },
  "language_info": {
   "codemirror_mode": {
    "name": "ipython",
    "version": 3
   },
   "file_extension": ".py",
   "mimetype": "text/x-python",
   "name": "python",
   "nbconvert_exporter": "python",
   "pygments_lexer": "ipython3",
   "version": "3.13.5"
  }
 },
 "nbformat": 4,
 "nbformat_minor": 5
}
