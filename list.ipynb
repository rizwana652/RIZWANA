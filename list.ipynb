{
 "cells": [
  {
   "cell_type": "code",
   "execution_count": 2,
   "id": "82469873",
   "metadata": {},
   "outputs": [
    {
     "name": "stdout",
     "output_type": "stream",
     "text": [
      "[1, 4, 9, 16, 25, 36, 49, 64, 81, 100]\n"
     ]
    }
   ],
   "source": [
    "# Question 1: Create a list of first 10 square numbers\n",
    "square= [i**2 for i in range(1,11)]\n",
    "print(square)"
   ]
  },
  {
   "cell_type": "code",
   "execution_count": 8,
   "id": "3b7ca370",
   "metadata": {},
   "outputs": [
    {
     "name": "stdout",
     "output_type": "stream",
     "text": [
      "30\n"
     ]
    }
   ],
   "source": [
    "# Question 2: Find the sum of all even numbers in [1, 2, 3, 4, 5, 6, 7, 8, 9, 10]\n",
    "list=[1,2,3,4,5,6,7,8,9,10]\n",
    "l2=[]\n",
    "for i in list:\n",
    "    if i%2==0: \n",
    "        l2.append(i)\n",
    "print(sum(l2))"
   ]
  },
  {
   "cell_type": "code",
   "execution_count": 13,
   "id": "69d58fdd",
   "metadata": {},
   "outputs": [
    {
     "name": "stdout",
     "output_type": "stream",
     "text": [
      "[1, 2, 3, 4, 5, 6, 7]\n"
     ]
    }
   ],
   "source": [
    "# Question 3: Remove duplicates from [1, 2, 2, 3, 4, 4, 5, 6, 6, 7]\n",
    "l1=[1,2,2,3,4,4,5,6,6,7]\n",
    "l2=[]\n",
    "for i in l1 :\n",
    "    if i not in l2:\n",
    "      l2.append(i)\n",
    "print(l2)"
   ]
  },
  {
   "cell_type": "code",
   "execution_count": 17,
   "id": "014a57c3",
   "metadata": {},
   "outputs": [
    {
     "name": "stdout",
     "output_type": "stream",
     "text": [
      "[90, 64, 34, 25, 22, 12, 11]\n"
     ]
    }
   ],
   "source": [
    "# Question 4: Sort the list [64, 34, 25, 12, 22, 11, 90] in descending order\n",
    "l1=[64,34,25,12,22,11,90]\n",
    "l2=sorted(l1 , reverse=True)\n",
    "print(l2)"
   ]
  },
  {
   "cell_type": "code",
   "execution_count": 20,
   "id": "8072cb0e",
   "metadata": {},
   "outputs": [
    {
     "name": "stdout",
     "output_type": "stream",
     "text": [
      "48.0\n"
     ]
    }
   ],
   "source": [
    "# Question 5: Find the average of numbers in [15, 23, 31, 42, 56, 78, 91]\n",
    "l1=[15,23,31,42,56,78,91]\n",
    "l2=sum(l1)/len(l1)\n",
    "print(l2)"
   ]
  },
  {
   "cell_type": "code",
   "execution_count": 24,
   "id": "a5d0727e",
   "metadata": {},
   "outputs": [
    {
     "name": "stdout",
     "output_type": "stream",
     "text": [
      "[0, 1, 1, 2, 3, 5, 8, 13, 21, 34, 55, 89, 144, 233, 377]\n"
     ]
    }
   ],
   "source": [
    "# Question 6: Create a list of first 15 Fibonacci numbers\n",
    "fibonacci=[0,1]\n",
    "while len(fibonacci)<15:\n",
    "    new_num=fibonacci[-1]+fibonacci[-2]\n",
    "    fibonacci.append(new_num)\n",
    "print(fibonacci)\n"
   ]
  },
  {
   "cell_type": "code",
   "execution_count": null,
   "id": "66991c95",
   "metadata": {},
   "outputs": [],
   "source": [
    "# Question 7: Find the second largest number in [45, 67, 23, 89, 12, 34, 78]\n"
   ]
  },
  {
   "cell_type": "code",
   "execution_count": 25,
   "id": "d5ff3ad7",
   "metadata": {},
   "outputs": [
    {
     "name": "stdout",
     "output_type": "stream",
     "text": [
      "[10, 9, 8, 7, 6, 5, 4, 3, 2, 1]\n"
     ]
    }
   ],
   "source": [
    "# Question 8: Reverse the list [1, 2, 3, 4, 5, 6, 7, 8, 9, 10]\n",
    "l1=[1,2,3,4,5,6,7,8,9,10]\n",
    "l2=l1[::-1]\n",
    "print(l2)"
   ]
  },
  {
   "cell_type": "code",
   "execution_count": 29,
   "id": "ebd70bc9",
   "metadata": {},
   "outputs": [
    {
     "name": "stdout",
     "output_type": "stream",
     "text": [
      "4\n"
     ]
    }
   ],
   "source": [
    "# Question 9: Count how many times 5 appears in [1, 5, 2, 5, 3, 5, 4, 5, 6]\n",
    "l1=[1,5,2,5,3,5,4,5,6]\n",
    "count=0\n",
    "for i in l1:\n",
    "    if i==5:\n",
    "        count+=1\n",
    "print(count)"
   ]
  },
  {
   "cell_type": "code",
   "execution_count": 47,
   "id": "416eea39",
   "metadata": {},
   "outputs": [
    {
     "name": "stdout",
     "output_type": "stream",
     "text": [
      "[2, 3, 5, 7, 11, 13, 17, 19, 23, 29, 31, 37, 41, 43, 47]\n"
     ]
    }
   ],
   "source": [
    "# Question 10: Create a list of prime numbers between 1 and 50\n",
    "def is_prime(n):\n",
    "    if n<2:\n",
    "        return False\n",
    "    for i in range(2, int(n**0.5)+1):\n",
    "        if n%i==0:\n",
    "            return False\n",
    "    return True\n",
    "prime_num=[num for num in range(1,51) if is_prime(num)]\n",
    "print(prime_num)\n",
    "    \n"
   ]
  },
  {
   "cell_type": "code",
   "execution_count": 53,
   "id": "2fbf3bc0",
   "metadata": {},
   "outputs": [
    {
     "data": {
      "text/plain": [
       "[1, 2, 3, 4, 5, 6, 7, 8, 9]"
      ]
     },
     "execution_count": 53,
     "metadata": {},
     "output_type": "execute_result"
    }
   ],
   "source": [
    "# Question 11: Flatten nested list [[1, 2, 3], [4, 5, 6], [7, 8, 9]]\n",
    "nested_list=[[1,2,3],[4,5,6],[7,8,9]]\n",
    "sum(nested_list,[])"
   ]
  },
  {
   "cell_type": "code",
   "execution_count": 55,
   "id": "2b9f6990",
   "metadata": {},
   "outputs": [
    {
     "name": "stdout",
     "output_type": "stream",
     "text": [
      "[4, 5]\n"
     ]
    }
   ],
   "source": [
    "# Question 12: Find common elements between [1, 2, 3, 4, 5] and [4, 5, 6, 7, 8]\n",
    "x=[1,2,3,4,5]\n",
    "y=[4,5,6,7,8]\n",
    "z=[]\n",
    "for i in x:\n",
    "    if i in y:\n",
    "        z.append(i)\n",
    "print(z)"
   ]
  },
  {
   "cell_type": "code",
   "execution_count": 58,
   "id": "0a685264",
   "metadata": {},
   "outputs": [
    {
     "data": {
      "text/plain": [
       "[1, 2, 3, 4, 5, 6]"
      ]
     },
     "execution_count": 58,
     "metadata": {},
     "output_type": "execute_result"
    }
   ],
   "source": [
    "# Question 13: Create a list of lists: [[1, 2], [3, 4], [5, 6]]\n",
    "l1=[[1,2],[3,4],[5,6]]\n",
    "sum(l1,[])"
   ]
  },
  {
   "cell_type": "code",
   "execution_count": 63,
   "id": "83836e5b",
   "metadata": {},
   "outputs": [
    {
     "name": "stdout",
     "output_type": "stream",
     "text": [
      "[6, 15, 24]\n"
     ]
    }
   ],
   "source": [
    "# Question 14: Find the sum of each sublist in [[1, 2, 3], [4, 5, 6], [7, 8, 9]]\n",
    "l1=[[1,2,3],[4,5,6],[7,8,9]]\n",
    "l2=[sum(sublist) for sublist in l1]\n",
    "print(l2)"
   ]
  },
  {
   "cell_type": "code",
   "execution_count": null,
   "id": "95538e69",
   "metadata": {},
   "outputs": [],
   "source": [
    "# Question 15: Transpose the matrix [[1, 2, 3], [4, 5, 6], [7, 8, 9]]"
   ]
  },
  {
   "cell_type": "code",
   "execution_count": 64,
   "id": "748760a2",
   "metadata": {},
   "outputs": [
    {
     "name": "stdout",
     "output_type": "stream",
     "text": [
      "[5, 9, 8]\n"
     ]
    }
   ],
   "source": [
    "# Question 16: Find the maximum value in each sublist of [[1, 5, 3], [9, 2, 7], [4, 8, 6]]\n",
    "l1=[[1,5,3],[9,2,7],[4,8,6]]\n",
    "l2=[max(sublist) for sublist in l1]\n",
    "print(l2)\n"
   ]
  },
  {
   "cell_type": "code",
   "execution_count": null,
   "id": "dab9f188",
   "metadata": {},
   "outputs": [],
   "source": [
    "# Question 17: Create a 3D list: [[[1, 2], [3, 4]], [[5, 6], [7, 8]]]"
   ]
  },
  {
   "cell_type": "code",
   "execution_count": null,
   "id": "68d320f7",
   "metadata": {},
   "outputs": [],
   "source": [
    "# Question 18: Find the sum of all elements in 3D list [[[1, 2], [3, 4]], [[5, 6], [7, 8]]]"
   ]
  },
  {
   "cell_type": "code",
   "execution_count": 91,
   "id": "a5ed7344",
   "metadata": {},
   "outputs": [
    {
     "name": "stdout",
     "output_type": "stream",
     "text": [
      "[2, 4, 6, 8]\n"
     ]
    }
   ],
   "source": [
    "# Question 19: Extract all even numbers from nested list [[1, 2, 3], [4, 5, 6], [7, 8, 9]]\n",
    "l1=[[1,2,3],[4,5,6],[7,8,9]]\n",
    "l2 =[num for sublist in l1 for num in sublist if num % 2 ==0]\n",
    "print(l2)\n",
    "\n",
    "     "
   ]
  },
  {
   "cell_type": "code",
   "execution_count": 93,
   "id": "2d83aa60",
   "metadata": {},
   "outputs": [
    {
     "name": "stdout",
     "output_type": "stream",
     "text": [
      "[<class 'int'>, <class 'str'>, <class 'float'>, <class 'bool'>, <class 'list'>]\n"
     ]
    }
   ],
   "source": [
    "# Question 20: Create a list of mixed data types: [1, \"hello\", 3.14, True, [1, 2, 3]]\n",
    "x=[1,\"hello\",3.14,True,[1,2,3]]\n",
    "y=[type(x[0]),type(x[1]),type(x[2]),type(x[3]),type(x[4])]\n",
    "print(y)"
   ]
  },
  {
   "cell_type": "code",
   "execution_count": 96,
   "id": "2af0984d",
   "metadata": {},
   "outputs": [
    {
     "name": "stdout",
     "output_type": "stream",
     "text": [
      "[5, 6, 6, 4]\n"
     ]
    }
   ],
   "source": [
    "# Question 21: Find the length of each string in [\"apple\", \"banana\", \"cherry\", \"date\"]\n",
    "str=[\"apple\",\"banana\",\"cherry\",\"date\"]\n",
    "x=[len(str[0]),len(str[1]),len(str[2]),len(str[3])]\n",
    "print(x)"
   ]
  },
  {
   "cell_type": "code",
   "execution_count": 97,
   "id": "25f5cbe7",
   "metadata": {},
   "outputs": [
    {
     "name": "stdout",
     "output_type": "stream",
     "text": [
      "[<class 'tuple'>, <class 'tuple'>, <class 'tuple'>]\n"
     ]
    }
   ],
   "source": [
    "# Question 22: Create a list of tuples: [(1, 'a'), (2, 'b'), (3, 'c')]\n",
    "s=[(1, 'a'),(2, 'b'),(3,'c')]\n",
    "y=[type(s[0]),type(s[1]),type(s[2])]\n",
    "print(y)"
   ]
  },
  {
   "cell_type": "code",
   "execution_count": 99,
   "id": "5a11c8ec",
   "metadata": {},
   "outputs": [
    {
     "name": "stdout",
     "output_type": "stream",
     "text": [
      "[1, 2, 3]\n"
     ]
    }
   ],
   "source": [
    "# Question 23: Extract first element from each tuple in [(1, 'a'), (2, 'b'), (3, 'c')]\n",
    "x=[(1,'a'),(2,\"b\"),(3,'c')]\n",
    "y=[index[0] for index in x]\n",
    "print(y)"
   ]
  },
  {
   "cell_type": "code",
   "execution_count": 101,
   "id": "4ca506f0",
   "metadata": {},
   "outputs": [
    {
     "name": "stdout",
     "output_type": "stream",
     "text": [
      "{1, 2, 3, 4}\n"
     ]
    }
   ],
   "source": [
    "# Question 30: Find the union of all sets in list of sets\n",
    "x=[{1,2},{3,4}]\n",
    "y=set().union(*x)\n",
    "print(y)"
   ]
  }
 ],
 "metadata": {
  "kernelspec": {
   "display_name": "Python 3",
   "language": "python",
   "name": "python3"
  },
  "language_info": {
   "codemirror_mode": {
    "name": "ipython",
    "version": 3
   },
   "file_extension": ".py",
   "mimetype": "text/x-python",
   "name": "python",
   "nbconvert_exporter": "python",
   "pygments_lexer": "ipython3",
   "version": "3.13.5"
  }
 },
 "nbformat": 4,
 "nbformat_minor": 5
}
