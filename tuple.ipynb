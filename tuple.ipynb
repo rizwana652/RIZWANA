{
 "cells": [
  {
   "cell_type": "code",
   "execution_count": 5,
   "id": "a8ca8659",
   "metadata": {},
   "outputs": [
    {
     "name": "stdout",
     "output_type": "stream",
     "text": [
      "first 10 natural numbers are: (1, 2, 3, 4, 5, 6, 7, 8, 9, 10)\n"
     ]
    }
   ],
   "source": [
    "\n",
    "# Question 1: Create a tuple of first 10 natural numbers\n",
    "t1=tuple(range(1,11))\n",
    "print(\"first 10 natural numbers are:\", t1)\n"
   ]
  },
  {
   "cell_type": "code",
   "execution_count": 1,
   "id": "aa919684",
   "metadata": {},
   "outputs": [
    {
     "name": "stdout",
     "output_type": "stream",
     "text": [
      "10\n"
     ]
    }
   ],
   "source": [
    "# Question 2: Find the length of tuple (1, 2, 3, 4, 5, 6, 7, 8, 9, 10)\n",
    "t1=(1,2,3,4,5,6,7,8,9,10)\n",
    "print(len(t1))"
   ]
  },
  {
   "cell_type": "code",
   "execution_count": 2,
   "id": "ad31a0b5",
   "metadata": {},
   "outputs": [
    {
     "name": "stdout",
     "output_type": "stream",
     "text": [
      "d\n"
     ]
    }
   ],
   "source": [
    "# Question 3: Access the 3rd element from tuple ('a', 'b', 'c', 'd', 'e')\n",
    "t1=('a','b','c','d','e')\n",
    "print(t1[3])"
   ]
  },
  {
   "cell_type": "code",
   "execution_count": 3,
   "id": "9f1e003d",
   "metadata": {},
   "outputs": [
    {
     "name": "stdout",
     "output_type": "stream",
     "text": [
      "89\n"
     ]
    }
   ],
   "source": [
    "# Question 4: Find the maximum value in tuple (23, 45, 12, 67, 34, 89, 56)\n",
    "t=(23,45,12,67,34,89,56)\n",
    "print(max(t))"
   ]
  },
  {
   "cell_type": "code",
   "execution_count": 5,
   "id": "4a388f74",
   "metadata": {},
   "outputs": [
    {
     "name": "stdout",
     "output_type": "stream",
     "text": [
      "4\n"
     ]
    }
   ],
   "source": [
    "# Question 5: Count how many times 5 appears in (1, 5, 2, 5, 3, 5, 4, 5, 6)\n",
    "t=(1,5,2,5,3,5,4,5,6)\n",
    "print(t.count(5))"
   ]
  },
  {
   "cell_type": "code",
   "execution_count": 4,
   "id": "43d2b032",
   "metadata": {},
   "outputs": [
    {
     "name": "stdout",
     "output_type": "stream",
     "text": [
      "(21, 4.23, 'hello', True)\n"
     ]
    }
   ],
   "source": [
    "# Question 6: Create a tuple of mixed data types (integer, float, string, boolean)\n",
    "mixed_tuple=(21,4.23,\"hello\",True)\n",
    "print(mixed_tuple)\n"
   ]
  },
  {
   "cell_type": "code",
   "execution_count": 6,
   "id": "a8232b7c",
   "metadata": {},
   "outputs": [
    {
     "name": "stdout",
     "output_type": "stream",
     "text": [
      "1\n"
     ]
    }
   ],
   "source": [
    "# Question 7: Find the index of element 'python' in ('java', 'python', 'c++', 'javascript')\n",
    "t=('java','python','c++','javascript')\n",
    "print(t.index('python'))"
   ]
  },
  {
   "cell_type": "code",
   "execution_count": 10,
   "id": "82dbfbec",
   "metadata": {},
   "outputs": [
    {
     "name": "stdout",
     "output_type": "stream",
     "text": [
      "25 does not exist\n"
     ]
    }
   ],
   "source": [
    "# Question 8: Check if 25 exists in tuple (10, 20, 30, 40, 50)\n",
    "t=(10,20,30,40,50)\n",
    "if 25 in t:\n",
    "    print(\"25 exist\")\n",
    "else:\n",
    "    print(\"25 does not exist\")"
   ]
  },
  {
   "cell_type": "code",
   "execution_count": 2,
   "id": "8e0852e3",
   "metadata": {},
   "outputs": [
    {
     "name": "stdout",
     "output_type": "stream",
     "text": [
      "(2, 4, 6, 8, 10)\n"
     ]
    }
   ],
   "source": [
    "# Question 9: Create a tuple of first 5 even numbers\n",
    "even_numbers= tuple(range(2,11,2))\n",
    "print(even_numbers)\n",
    "\n",
    "\n"
   ]
  },
  {
   "cell_type": "code",
   "execution_count": 1,
   "id": "ea1da00d",
   "metadata": {},
   "outputs": [
    {
     "name": "stdout",
     "output_type": "stream",
     "text": [
      "40.833333333333336\n"
     ]
    }
   ],
   "source": [
    "# Question 10: Find the average of numbers in tuple (15, 23, 31, 42, 56, 78)\n",
    "t=(15,23,31,42,56,78)\n",
    "\n",
    "avg = sum(t)/len(t)\n",
    "print(avg)"
   ]
  }
 ],
 "metadata": {
  "kernelspec": {
   "display_name": "Python 3",
   "language": "python",
   "name": "python3"
  },
  "language_info": {
   "codemirror_mode": {
    "name": "ipython",
    "version": 3
   },
   "file_extension": ".py",
   "mimetype": "text/x-python",
   "name": "python",
   "nbconvert_exporter": "python",
   "pygments_lexer": "ipython3",
   "version": "3.13.5"
  }
 },
 "nbformat": 4,
 "nbformat_minor": 5
}
