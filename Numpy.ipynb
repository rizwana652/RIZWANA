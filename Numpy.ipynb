{
  "nbformat": 4,
  "nbformat_minor": 0,
  "metadata": {
    "colab": {
      "provenance": [],
      "authorship_tag": "ABX9TyMKo1NTLqdl22Wu9i9gCq7d",
      "include_colab_link": true
    },
    "kernelspec": {
      "name": "python3",
      "display_name": "Python 3"
    },
    "language_info": {
      "name": "python"
    }
  },
  "cells": [
    {
      "cell_type": "markdown",
      "metadata": {
        "id": "view-in-github",
        "colab_type": "text"
      },
      "source": [
        "<a href=\"https://colab.research.google.com/github/rizwana652/RIZWANA/blob/main/Numpy.ipynb\" target=\"_parent\"><img src=\"https://colab.research.google.com/assets/colab-badge.svg\" alt=\"Open In Colab\"/></a>"
      ]
    },
    {
      "cell_type": "code",
      "source": [
        "import numpy as np\n",
        "\n",
        "# Manually created array: [Store ID, Sales, Customers, Inventory, Returns]\n",
        "retail_data = np.array([\n",
        "    [1, 25000, 300, 1200, 10],\n",
        "    [2, 32000, 450, 1500, 15],\n",
        "    [3, 28000, 380, 1100, 8],\n",
        "    [4, 41000, 500, 1600, 20],\n",
        "    [5, 35000, 420, 1400, 12],\n",
        "    [6, 27000, 360, 1300, 9],\n",
        "    [7, 39000, 480, 1700, 18],\n",
        "    [8, 30000, 400, 1250, 14],\n",
        "    [9, 45000, 550, 1800, 25],\n",
        "    [10, 33000, 410, 1450, 11]\n",
        "])\n",
        "\n",
        "print(retail_data)"
      ],
      "metadata": {
        "colab": {
          "base_uri": "https://localhost:8080/"
        },
        "id": "SgUzHiV29B7c",
        "outputId": "cbc83d95-e587-43d4-8b63-2a2a7c928407"
      },
      "execution_count": 1,
      "outputs": [
        {
          "output_type": "stream",
          "name": "stdout",
          "text": [
            "[[    1 25000   300  1200    10]\n",
            " [    2 32000   450  1500    15]\n",
            " [    3 28000   380  1100     8]\n",
            " [    4 41000   500  1600    20]\n",
            " [    5 35000   420  1400    12]\n",
            " [    6 27000   360  1300     9]\n",
            " [    7 39000   480  1700    18]\n",
            " [    8 30000   400  1250    14]\n",
            " [    9 45000   550  1800    25]\n",
            " [   10 33000   410  1450    11]]\n"
          ]
        }
      ]
    },
    {
      "cell_type": "code",
      "source": [
        "**Assumed columns:** `[StoreID, Sales, Customers, Inventory, Returns]`\n",
        "\n",
        "## Basic Performance Analysis\n",
        "1. What is the **total revenue** generated across all stores?\n",
        "2. Which store recorded the **highest sales**?\n",
        "3. Which store recorded the **lowest sales**?\n",
        "4. What is the **average daily sales** per store?\n",
        "5. How many stores achieved sales **above ₹35,000**?\n",
        "\n",
        "## Customer Insights\n",
        "6. Which store had the **highest customer footfall**?\n",
        "7. What is the **average number of customers** per store?\n",
        "8. How many stores have **more than 450 customers**?\n",
        "9. Which store has the **lowest customer count**?\n",
        "10. Is there any store where **high sales do not correspond to high customers**?\n",
        "\n",
        "## Inventory & Returns Analysis\n",
        "11. What is the **total inventory** across all stores?\n",
        "12. Which store has the **highest inventory stock**?\n",
        "13. How many stores have **inventory less than 1300 units**?\n",
        "14. Which store has the **highest return rate** (returns ÷ inventory)?\n",
        "15. Which stores have **returns greater than 15 units**?\n",
        "\n",
        "## Sales & Customer Correlation\n",
        "16. Is there a **positive correlation** between sales and customers?\n",
        "17. Which store has **high customer visits but low sales**?\n",
        "18. Which store has **low customers but high sales**?\n",
        "19. How many stores have **sales per customer above ₹90**?\n",
        "20. Which stores could **benefit from customer acquisition campaigns** (low customers, high inventory)?\n",
        "\n",
        "## Profitability & Growth\n",
        "21. If profit margin is **20% of sales**, what is the **profit per store**?\n",
        "22. Which store has the **highest profit**?\n",
        "23. Which store has the **lowest profit**?\n",
        "24. If sales increase by **10% next month**, what are the **new sales figures**?\n",
        "25. How will **total profit** change with the 10% sales increase?\n",
        "\n",
        "## Operational Strategy\n",
        "26. Which stores need **inventory restocking** based on sales and current stock?\n",
        "27. Which stores show **high returns percentage** and might require **quality checks**?\n",
        "28. Which store is the **best performer overall** (sales, customers, inventory turnover)?\n",
        "29. Which store is the **worst performer overall**?\n",
        "30. Which stores can be considered for **expansion** based on strong sales and customer metrics?\n"
      ],
      "metadata": {
        "id": "iZX3BAZmG0Ls"
      },
      "execution_count": null,
      "outputs": []
    },
    {
      "cell_type": "code",
      "execution_count": 2,
      "metadata": {
        "colab": {
          "base_uri": "https://localhost:8080/"
        },
        "id": "Tv9UA6yF7_3Y",
        "outputId": "6cdaa2b3-195e-4bad-804c-8ef4cee05f71"
      },
      "outputs": [
        {
          "output_type": "execute_result",
          "data": {
            "text/plain": [
              "np.int64(142)"
            ]
          },
          "metadata": {},
          "execution_count": 2
        }
      ],
      "source": [
        "# 1. What is the **total revenue** generated across all stores?\n",
        "retail_data[:,4].sum()"
      ]
    },
    {
      "cell_type": "code",
      "source": [
        "#2.Which store recorded the **highest sales**?\n",
        "retail_data[:,1].argmax()+1"
      ],
      "metadata": {
        "colab": {
          "base_uri": "https://localhost:8080/"
        },
        "id": "tj_uV73J9B_H",
        "outputId": "7ec4065f-a98a-42bf-c3fa-16a31ee2f21a"
      },
      "execution_count": 4,
      "outputs": [
        {
          "output_type": "execute_result",
          "data": {
            "text/plain": [
              "np.int64(9)"
            ]
          },
          "metadata": {},
          "execution_count": 4
        }
      ]
    },
    {
      "cell_type": "code",
      "source": [
        "# 3. Which store recorded the **lowest sales**??\n",
        "retail_data[:,1].argmin()+1"
      ],
      "metadata": {
        "colab": {
          "base_uri": "https://localhost:8080/"
        },
        "id": "oCWHTQ0x9Bo7",
        "outputId": "e242bbfa-a192-4c28-f2a7-7d92139931ad"
      },
      "execution_count": 5,
      "outputs": [
        {
          "output_type": "execute_result",
          "data": {
            "text/plain": [
              "np.int64(1)"
            ]
          },
          "metadata": {},
          "execution_count": 5
        }
      ]
    },
    {
      "cell_type": "code",
      "source": [
        "# 4. What is the **average daily sales** per store?\n",
        "retail_data[:,1].mean()"
      ],
      "metadata": {
        "colab": {
          "base_uri": "https://localhost:8080/"
        },
        "id": "6cCDWfruBi70",
        "outputId": "8f655008-9453-4fb5-98ad-ecde50171bb0"
      },
      "execution_count": 7,
      "outputs": [
        {
          "output_type": "execute_result",
          "data": {
            "text/plain": [
              "np.float64(33500.0)"
            ]
          },
          "metadata": {},
          "execution_count": 7
        }
      ]
    },
    {
      "cell_type": "code",
      "source": [
        "# 5. How many stores achieved sales **above ₹35,000**?\n",
        "sales=retail_data[:,1]\n",
        "count_above_35k=np.sum(sales>35000)\n",
        "print(count_above_35k)\n"
      ],
      "metadata": {
        "colab": {
          "base_uri": "https://localhost:8080/"
        },
        "id": "Nlp6UM3mBirU",
        "outputId": "eeb29229-acd8-4e74-dc8a-126b884c6892"
      },
      "execution_count": 16,
      "outputs": [
        {
          "output_type": "stream",
          "name": "stdout",
          "text": [
            "3\n"
          ]
        }
      ]
    },
    {
      "cell_type": "code",
      "source": [
        "# 6. Which store had the **highest customer footfall**?\n",
        "retail_data[:,2].argmax()+1"
      ],
      "metadata": {
        "colab": {
          "base_uri": "https://localhost:8080/"
        },
        "id": "iMavtepOBhSl",
        "outputId": "d39c9139-1523-49ed-ad43-bcaa6cd9be88"
      },
      "execution_count": 13,
      "outputs": [
        {
          "output_type": "execute_result",
          "data": {
            "text/plain": [
              "np.int64(9)"
            ]
          },
          "metadata": {},
          "execution_count": 13
        }
      ]
    },
    {
      "cell_type": "code",
      "source": [
        "# 7. What is the **average number of customers** per store?\n",
        "retail_data[:,2].mean()"
      ],
      "metadata": {
        "colab": {
          "base_uri": "https://localhost:8080/"
        },
        "id": "wyFAfeeaFA79",
        "outputId": "e8ccd45c-9e6e-40fd-84a9-5ab9fbc54902"
      },
      "execution_count": 14,
      "outputs": [
        {
          "output_type": "execute_result",
          "data": {
            "text/plain": [
              "np.float64(425.0)"
            ]
          },
          "metadata": {},
          "execution_count": 14
        }
      ]
    },
    {
      "cell_type": "code",
      "source": [
        "# 8. How many stores have **more than 450 customers**?\n",
        "customers=retail_data[:,2]\n",
        "count_above_450=np.sum(customers>450)\n",
        "print(count_above_450)\n",
        "\n"
      ],
      "metadata": {
        "colab": {
          "base_uri": "https://localhost:8080/"
        },
        "id": "Oxxh5j3UFCU4",
        "outputId": "eba8c359-024c-423e-edfd-5e40fe906937"
      },
      "execution_count": 17,
      "outputs": [
        {
          "output_type": "stream",
          "name": "stdout",
          "text": [
            "3\n"
          ]
        }
      ]
    },
    {
      "cell_type": "code",
      "source": [
        "retail_data"
      ],
      "metadata": {
        "colab": {
          "base_uri": "https://localhost:8080/"
        },
        "id": "C_6CXvptFCih",
        "outputId": "5e83ea70-25a6-4498-dcc9-e18daa879408"
      },
      "execution_count": 18,
      "outputs": [
        {
          "output_type": "execute_result",
          "data": {
            "text/plain": [
              "array([[    1, 25000,   300,  1200,    10],\n",
              "       [    2, 32000,   450,  1500,    15],\n",
              "       [    3, 28000,   380,  1100,     8],\n",
              "       [    4, 41000,   500,  1600,    20],\n",
              "       [    5, 35000,   420,  1400,    12],\n",
              "       [    6, 27000,   360,  1300,     9],\n",
              "       [    7, 39000,   480,  1700,    18],\n",
              "       [    8, 30000,   400,  1250,    14],\n",
              "       [    9, 45000,   550,  1800,    25],\n",
              "       [   10, 33000,   410,  1450,    11]])"
            ]
          },
          "metadata": {},
          "execution_count": 18
        }
      ]
    },
    {
      "cell_type": "code",
      "source": [
        "# 9. Which store has the **lowest customer count**?\n",
        "retail_data[:,2].argmin()+1"
      ],
      "metadata": {
        "colab": {
          "base_uri": "https://localhost:8080/"
        },
        "id": "wGRIznEvHgEy",
        "outputId": "ef4709d5-6162-4036-8801-8a809e4daf84"
      },
      "execution_count": 19,
      "outputs": [
        {
          "output_type": "execute_result",
          "data": {
            "text/plain": [
              "np.int64(1)"
            ]
          },
          "metadata": {},
          "execution_count": 19
        }
      ]
    },
    {
      "cell_type": "code",
      "source": [
        "# 10. Is there any store where **high sales do not correspond to high customers**?\n",
        "sal=retail_data[:,1].mean()\n",
        "cus=retail_data[:,2].mean()\n",
        "store=retail_data[(retail_data[:,1]>sal)&(retail_data[:,2]<cus)]\n",
        "store\n"
      ],
      "metadata": {
        "colab": {
          "base_uri": "https://localhost:8080/"
        },
        "id": "a2_JY-f5Hwod",
        "outputId": "b37804a3-af74-45f8-cfab-bd9d5ab9ebe8"
      },
      "execution_count": 20,
      "outputs": [
        {
          "output_type": "execute_result",
          "data": {
            "text/plain": [
              "array([[    5, 35000,   420,  1400,    12]])"
            ]
          },
          "metadata": {},
          "execution_count": 20
        }
      ]
    },
    {
      "cell_type": "code",
      "source": [
        "# 11. What is the **total inventory** across all stores?\n",
        "retail_data[:,3].sum()"
      ],
      "metadata": {
        "colab": {
          "base_uri": "https://localhost:8080/"
        },
        "id": "j_nA2sW1JUb8",
        "outputId": "6b8d2fa2-1747-46a1-839a-c9359d81e834"
      },
      "execution_count": 21,
      "outputs": [
        {
          "output_type": "execute_result",
          "data": {
            "text/plain": [
              "np.int64(14300)"
            ]
          },
          "metadata": {},
          "execution_count": 21
        }
      ]
    },
    {
      "cell_type": "code",
      "source": [
        "# 12. Which store has the **highest inventory stock**?\n",
        "retail_data[:,3].argmax()+1\n"
      ],
      "metadata": {
        "colab": {
          "base_uri": "https://localhost:8080/"
        },
        "id": "WyFwfnIrHwzm",
        "outputId": "9f5ecfe7-1908-4f65-f3e7-38f2653447d8"
      },
      "execution_count": 22,
      "outputs": [
        {
          "output_type": "execute_result",
          "data": {
            "text/plain": [
              "np.int64(9)"
            ]
          },
          "metadata": {},
          "execution_count": 22
        }
      ]
    },
    {
      "cell_type": "code",
      "source": [
        "# 13. How many stores have **inventory less than 1300 units**?\n",
        "inv=retail_data[:,3]\n",
        "count_below_1300=np.sum(inv<1300)\n",
        "print(count_below_1300)"
      ],
      "metadata": {
        "colab": {
          "base_uri": "https://localhost:8080/"
        },
        "id": "P2Z2TBr2Hw5e",
        "outputId": "ff776b92-2bd9-4cd5-e78c-24c61eece566"
      },
      "execution_count": 24,
      "outputs": [
        {
          "output_type": "stream",
          "name": "stdout",
          "text": [
            "3\n"
          ]
        }
      ]
    },
    {
      "cell_type": "code",
      "source": [
        "# 14. Which store has the **highest return rate** (returns ÷ inventory)?\n",
        "(retail_data[:,4]/retail_data[:,3]).argmax()+1"
      ],
      "metadata": {
        "colab": {
          "base_uri": "https://localhost:8080/"
        },
        "id": "h9Ug7SBeLRmt",
        "outputId": "3196c0b7-4a2d-483b-a9f1-2e6c7b14f40e"
      },
      "execution_count": 26,
      "outputs": [
        {
          "output_type": "execute_result",
          "data": {
            "text/plain": [
              "np.int64(9)"
            ]
          },
          "metadata": {},
          "execution_count": 26
        }
      ]
    },
    {
      "cell_type": "code",
      "source": [
        "# 15. Which stores have **returns greater than 15 units**?\n",
        "returns=retail_data[:,4]\n",
        "count_greater_15=np.sum(returns>15)\n",
        "print(count_greater_15)\n"
      ],
      "metadata": {
        "colab": {
          "base_uri": "https://localhost:8080/"
        },
        "id": "hA48bOxwLRcl",
        "outputId": "6fc2b476-a875-45d8-dca3-4625d8e78bcd"
      },
      "execution_count": 30,
      "outputs": [
        {
          "output_type": "stream",
          "name": "stdout",
          "text": [
            "3\n"
          ]
        }
      ]
    },
    {
      "cell_type": "code",
      "source": [
        "# 16. Is there a **positive correlation** between sales and customers?\n",
        "np.corrcoef(retail_data[:,1],retail_data[:,2])"
      ],
      "metadata": {
        "colab": {
          "base_uri": "https://localhost:8080/"
        },
        "id": "CxsUUadKLRSN",
        "outputId": "d487745b-0ad5-4cad-a00b-c0b1a90527e0"
      },
      "execution_count": 31,
      "outputs": [
        {
          "output_type": "execute_result",
          "data": {
            "text/plain": [
              "array([[1.        , 0.95936369],\n",
              "       [0.95936369, 1.        ]])"
            ]
          },
          "metadata": {},
          "execution_count": 31
        }
      ]
    },
    {
      "cell_type": "code",
      "source": [
        "# 17. Which store has **high customer visits but low sales**?\n",
        "cus=retail_data[:,2].mean()\n",
        "sal=retail_data[:,1].mean()\n",
        "store=retail_data[(retail_data[:,2] > cus) & (retail_data[:,1] < sal)]\n",
        "store\n"
      ],
      "metadata": {
        "colab": {
          "base_uri": "https://localhost:8080/"
        },
        "id": "lyzpi8EoLRHu",
        "outputId": "de01e2fc-253c-457d-c1af-166d079d75af"
      },
      "execution_count": 35,
      "outputs": [
        {
          "output_type": "execute_result",
          "data": {
            "text/plain": [
              "array([[    2, 32000,   450,  1500,    15]])"
            ]
          },
          "metadata": {},
          "execution_count": 35
        }
      ]
    },
    {
      "cell_type": "code",
      "source": [
        "# 18. Which store has **low customers but high sales**?\n",
        "cus=retail_data[:,2].mean()\n",
        "sal=retail_data[:,1].mean()\n",
        "store=retail_data[(retail_data[:,2] < cus) & (retail_data[:,1] > sal)]\n",
        "store"
      ],
      "metadata": {
        "colab": {
          "base_uri": "https://localhost:8080/"
        },
        "id": "al4akdUtQpZR",
        "outputId": "c3a94272-c2fc-4ec2-fb8e-d835be3e6ff5"
      },
      "execution_count": 36,
      "outputs": [
        {
          "output_type": "execute_result",
          "data": {
            "text/plain": [
              "array([[    5, 35000,   420,  1400,    12]])"
            ]
          },
          "metadata": {},
          "execution_count": 36
        }
      ]
    },
    {
      "cell_type": "code",
      "source": [
        "# 19. How many stores have **sales per customer above ₹90**?\n",
        "retail_data[((retail_data[:,1])/(retail_data[:,2]))>90]"
      ],
      "metadata": {
        "colab": {
          "base_uri": "https://localhost:8080/"
        },
        "id": "RVZ_-4rtQpQn",
        "outputId": "7006ef2f-4900-474d-c8ed-acd66bb5c802"
      },
      "execution_count": 42,
      "outputs": [
        {
          "output_type": "execute_result",
          "data": {
            "text/plain": [
              "array([], shape=(0, 5), dtype=int64)"
            ]
          },
          "metadata": {},
          "execution_count": 42
        }
      ]
    },
    {
      "cell_type": "code",
      "source": [
        "# 20. Which stores could **benefit from customer acquisition campaigns** (low customers, high inventory)?\n",
        "cus=retail_data[:,2].mean()\n",
        "inv=retail_data[:,3].mean()\n",
        "store=retail_data[(retail_data[:,2]< cus) & (retail_data[:,3] > inv)]\n",
        "store"
      ],
      "metadata": {
        "colab": {
          "base_uri": "https://localhost:8080/"
        },
        "id": "2jEIjhdvQpHP",
        "outputId": "96a3985e-b883-4b4a-c65d-b11dd332ea67"
      },
      "execution_count": 47,
      "outputs": [
        {
          "output_type": "execute_result",
          "data": {
            "text/plain": [
              "array([[   10, 33000,   410,  1450,    11]])"
            ]
          },
          "metadata": {},
          "execution_count": 47
        }
      ]
    }
  ]
}